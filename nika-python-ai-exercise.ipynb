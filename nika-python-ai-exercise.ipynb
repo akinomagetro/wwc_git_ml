{
 "cells": [
  {
   "cell_type": "code",
   "execution_count": 5,
   "metadata": {},
   "outputs": [
    {
     "name": "stdout",
     "output_type": "stream",
     "text": [
      "What is your name? Nika\n",
      "What is your age? 29\n"
     ]
    }
   ],
   "source": [
    "name = str(input('What is your name? '))\n",
    "age = int(input('What is your age? '))\n",
    "age_before_100 = int((100 - b) + 2018)"
   ]
  },
  {
   "cell_type": "code",
   "execution_count": 12,
   "metadata": {},
   "outputs": [
    {
     "name": "stdout",
     "output_type": "stream",
     "text": [
      "Hello Nika you will turn 100 in 2089\n",
      "Hello Nika you will turn 100 in 2089\n",
      "Hello Nika you will turn 100 in 2089\n",
      "Hello Nika you will turn 100 in 2089.00\n"
     ]
    }
   ],
   "source": [
    "print(\"Hello \" + str(a) + \" you will turn 100 in \" + str(c))\n",
    "print(\"Hello\", a, \"you will turn 100 in\", c)\n",
    "print(\"Hello {} you will turn 100 in {}\".format(a,c))\n",
    "print(\"Hello %s you will turn 100 in %.2f\" % (a, c))\n"
   ]
  },
  {
   "cell_type": "code",
   "execution_count": null,
   "metadata": {},
   "outputs": [],
   "source": []
  }
 ],
 "metadata": {
  "kernelspec": {
   "display_name": "Python 3",
   "language": "python",
   "name": "python3"
  },
  "language_info": {
   "codemirror_mode": {
    "name": "ipython",
    "version": 3
   },
   "file_extension": ".py",
   "mimetype": "text/x-python",
   "name": "python",
   "nbconvert_exporter": "python",
   "pygments_lexer": "ipython3",
   "version": "3.6.4"
  }
 },
 "nbformat": 4,
 "nbformat_minor": 2
}
